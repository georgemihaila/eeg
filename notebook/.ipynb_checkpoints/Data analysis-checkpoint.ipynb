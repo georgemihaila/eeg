{
 "cells": [
  {
   "cell_type": "markdown",
   "id": "0505c0e0",
   "metadata": {},
   "source": [
    "Import stuff"
   ]
  },
  {
   "cell_type": "code",
   "execution_count": 1,
   "id": "403a6771",
   "metadata": {},
   "outputs": [],
   "source": [
    "import numpy as np\n",
    "import matplotlib.pyplot as plt\n",
    "import matplotlib\n",
    "import scipy as sp\n",
    "from matplotlib import scale\n",
    "import matplotlib\n",
    "from matplotlib.mlab import detrend\n",
    "import scipy.fftpack as spfp\n",
    "import scipy.signal as spsignal\n",
    "from matplotlib.animation import FuncAnimation\n",
    "import pandas as pd\n",
    "from datetime import datetime, timedelta"
   ]
  },
  {
   "cell_type": "markdown",
   "id": "8275d05d",
   "metadata": {},
   "source": [
    "Define time functions"
   ]
  },
  {
   "cell_type": "code",
   "execution_count": 2,
   "id": "d9961974",
   "metadata": {},
   "outputs": [],
   "source": [
    "# Function to convert C# ticks to Python datetime\n",
    "def ticks_to_datetime(ticks):\n",
    "    # Define the start date for ticks (0001-01-01 00:00:00 in Gregorian calendar)\n",
    "    ticks_start_date = datetime(1, 1, 1)\n",
    "    # Convert ticks to days (1 tick = 100 nanoseconds)\n",
    "    days = ticks / (10**7 * 60 * 60 * 24)\n",
    "    return ticks_start_date + timedelta(days=days)\n",
    "\n",
    "# Function to load data and return data between two times\n",
    "\n",
    "\n",
    "def get_data_between_times(filename, start_time, end_time):\n",
    "    # Load data\n",
    "    # Assuming the first row is a header\n",
    "    data = np.loadtxt(filename, skiprows=1)\n",
    "\n",
    "    # Convert the first column (timestamps) to datetime objects\n",
    "    timestamps = np.array([ticks_to_datetime(tick) for tick in data[:, 0]])\n",
    "\n",
    "    # Create a mask for the desired time range\n",
    "    mask = (timestamps >= start_time) & (timestamps <= end_time)\n",
    "\n",
    "    # Return the filtered data\n",
    "    return data[mask]"
   ]
  },
  {
   "cell_type": "markdown",
   "id": "83ad849a",
   "metadata": {},
   "source": [
    "Import data and assume sample rate"
   ]
  },
  {
   "cell_type": "code",
   "execution_count": 3,
   "id": "06f23f2d",
   "metadata": {},
   "outputs": [
    {
     "ename": "FileNotFoundError",
     "evalue": "/home/qcd/Desktop/repos/EEG/EEG/bin/Debug/net8.0/dump.eer not found.",
     "output_type": "error",
     "traceback": [
      "\u001b[0;31m---------------------------------------------------------------------------\u001b[0m",
      "\u001b[0;31mFileNotFoundError\u001b[0m                         Traceback (most recent call last)",
      "Cell \u001b[0;32mIn[3], line 4\u001b[0m\n\u001b[1;32m      1\u001b[0m \u001b[38;5;28;01mfrom\u001b[39;00m \u001b[38;5;21;01mos\u001b[39;00m \u001b[38;5;28;01mimport\u001b[39;00m truncate\n\u001b[1;32m      3\u001b[0m sleep_data_filename \u001b[38;5;241m=\u001b[39m \u001b[38;5;124m\"\u001b[39m\u001b[38;5;124m/home/qcd/Desktop/repos/EEG/data/sleep.eer\u001b[39m\u001b[38;5;124m\"\u001b[39m\n\u001b[0;32m----> 4\u001b[0m data \u001b[38;5;241m=\u001b[39m  np\u001b[38;5;241m.\u001b[39mloadtxt(\u001b[38;5;124m\"\u001b[39m\u001b[38;5;124m/home/qcd/Desktop/repos/EEG/EEG/bin/Debug/net8.0/dump.eer\u001b[39m\u001b[38;5;124m\"\u001b[39m)\n\u001b[1;32m      5\u001b[0m \u001b[38;5;66;03m#data = np.loadtxt(sleep_data_filename)\u001b[39;00m\n\u001b[1;32m      6\u001b[0m ydata \u001b[38;5;241m=\u001b[39m data[:,\u001b[38;5;241m1\u001b[39m]\n",
      "File \u001b[0;32m~/anaconda3/lib/python3.11/site-packages/numpy/lib/npyio.py:1356\u001b[0m, in \u001b[0;36mloadtxt\u001b[0;34m(fname, dtype, comments, delimiter, converters, skiprows, usecols, unpack, ndmin, encoding, max_rows, quotechar, like)\u001b[0m\n\u001b[1;32m   1353\u001b[0m \u001b[38;5;28;01mif\u001b[39;00m \u001b[38;5;28misinstance\u001b[39m(delimiter, \u001b[38;5;28mbytes\u001b[39m):\n\u001b[1;32m   1354\u001b[0m     delimiter \u001b[38;5;241m=\u001b[39m delimiter\u001b[38;5;241m.\u001b[39mdecode(\u001b[38;5;124m'\u001b[39m\u001b[38;5;124mlatin1\u001b[39m\u001b[38;5;124m'\u001b[39m)\n\u001b[0;32m-> 1356\u001b[0m arr \u001b[38;5;241m=\u001b[39m _read(fname, dtype\u001b[38;5;241m=\u001b[39mdtype, comment\u001b[38;5;241m=\u001b[39mcomment, delimiter\u001b[38;5;241m=\u001b[39mdelimiter,\n\u001b[1;32m   1357\u001b[0m             converters\u001b[38;5;241m=\u001b[39mconverters, skiplines\u001b[38;5;241m=\u001b[39mskiprows, usecols\u001b[38;5;241m=\u001b[39musecols,\n\u001b[1;32m   1358\u001b[0m             unpack\u001b[38;5;241m=\u001b[39munpack, ndmin\u001b[38;5;241m=\u001b[39mndmin, encoding\u001b[38;5;241m=\u001b[39mencoding,\n\u001b[1;32m   1359\u001b[0m             max_rows\u001b[38;5;241m=\u001b[39mmax_rows, quote\u001b[38;5;241m=\u001b[39mquotechar)\n\u001b[1;32m   1361\u001b[0m \u001b[38;5;28;01mreturn\u001b[39;00m arr\n",
      "File \u001b[0;32m~/anaconda3/lib/python3.11/site-packages/numpy/lib/npyio.py:975\u001b[0m, in \u001b[0;36m_read\u001b[0;34m(fname, delimiter, comment, quote, imaginary_unit, usecols, skiplines, max_rows, converters, ndmin, unpack, dtype, encoding)\u001b[0m\n\u001b[1;32m    973\u001b[0m     fname \u001b[38;5;241m=\u001b[39m os\u001b[38;5;241m.\u001b[39mfspath(fname)\n\u001b[1;32m    974\u001b[0m \u001b[38;5;28;01mif\u001b[39;00m \u001b[38;5;28misinstance\u001b[39m(fname, \u001b[38;5;28mstr\u001b[39m):\n\u001b[0;32m--> 975\u001b[0m     fh \u001b[38;5;241m=\u001b[39m np\u001b[38;5;241m.\u001b[39mlib\u001b[38;5;241m.\u001b[39m_datasource\u001b[38;5;241m.\u001b[39mopen(fname, \u001b[38;5;124m'\u001b[39m\u001b[38;5;124mrt\u001b[39m\u001b[38;5;124m'\u001b[39m, encoding\u001b[38;5;241m=\u001b[39mencoding)\n\u001b[1;32m    976\u001b[0m     \u001b[38;5;28;01mif\u001b[39;00m encoding \u001b[38;5;129;01mis\u001b[39;00m \u001b[38;5;28;01mNone\u001b[39;00m:\n\u001b[1;32m    977\u001b[0m         encoding \u001b[38;5;241m=\u001b[39m \u001b[38;5;28mgetattr\u001b[39m(fh, \u001b[38;5;124m'\u001b[39m\u001b[38;5;124mencoding\u001b[39m\u001b[38;5;124m'\u001b[39m, \u001b[38;5;124m'\u001b[39m\u001b[38;5;124mlatin1\u001b[39m\u001b[38;5;124m'\u001b[39m)\n",
      "File \u001b[0;32m~/anaconda3/lib/python3.11/site-packages/numpy/lib/_datasource.py:193\u001b[0m, in \u001b[0;36mopen\u001b[0;34m(path, mode, destpath, encoding, newline)\u001b[0m\n\u001b[1;32m    156\u001b[0m \u001b[38;5;250m\u001b[39m\u001b[38;5;124;03m\"\"\"\u001b[39;00m\n\u001b[1;32m    157\u001b[0m \u001b[38;5;124;03mOpen `path` with `mode` and return the file object.\u001b[39;00m\n\u001b[1;32m    158\u001b[0m \n\u001b[0;32m   (...)\u001b[0m\n\u001b[1;32m    189\u001b[0m \n\u001b[1;32m    190\u001b[0m \u001b[38;5;124;03m\"\"\"\u001b[39;00m\n\u001b[1;32m    192\u001b[0m ds \u001b[38;5;241m=\u001b[39m DataSource(destpath)\n\u001b[0;32m--> 193\u001b[0m \u001b[38;5;28;01mreturn\u001b[39;00m ds\u001b[38;5;241m.\u001b[39mopen(path, mode, encoding\u001b[38;5;241m=\u001b[39mencoding, newline\u001b[38;5;241m=\u001b[39mnewline)\n",
      "File \u001b[0;32m~/anaconda3/lib/python3.11/site-packages/numpy/lib/_datasource.py:533\u001b[0m, in \u001b[0;36mDataSource.open\u001b[0;34m(self, path, mode, encoding, newline)\u001b[0m\n\u001b[1;32m    530\u001b[0m     \u001b[38;5;28;01mreturn\u001b[39;00m _file_openers[ext](found, mode\u001b[38;5;241m=\u001b[39mmode,\n\u001b[1;32m    531\u001b[0m                               encoding\u001b[38;5;241m=\u001b[39mencoding, newline\u001b[38;5;241m=\u001b[39mnewline)\n\u001b[1;32m    532\u001b[0m \u001b[38;5;28;01melse\u001b[39;00m:\n\u001b[0;32m--> 533\u001b[0m     \u001b[38;5;28;01mraise\u001b[39;00m \u001b[38;5;167;01mFileNotFoundError\u001b[39;00m(\u001b[38;5;124mf\u001b[39m\u001b[38;5;124m\"\u001b[39m\u001b[38;5;132;01m{\u001b[39;00mpath\u001b[38;5;132;01m}\u001b[39;00m\u001b[38;5;124m not found.\u001b[39m\u001b[38;5;124m\"\u001b[39m)\n",
      "\u001b[0;31mFileNotFoundError\u001b[0m: /home/qcd/Desktop/repos/EEG/EEG/bin/Debug/net8.0/dump.eer not found."
     ]
    }
   ],
   "source": [
    "from os import truncate\n",
    "\n",
    "sleep_data_filename = \"/home/qcd/Desktop/repos/EEG/data/sleep.eer\"\n",
    "data =  np.loadtxt(\"/home/qcd/Desktop/repos/EEG/EEG/bin/Debug/net8.0/dump.eer\")\n",
    "#data = np.loadtxt(sleep_data_filename)\n",
    "ydata = data[:,1]\n",
    "#ydata = [(ydata[i]/pow(2,16)) for i in range(0, len(ydata))]\n",
    "xdata = data[:,0]\n",
    "print(data[:,1])\n",
    "t_res = ticks_to_datetime(xdata[len(xdata)-1]-xdata[0])\n",
    "freq_hz = t_res.microsecond / 1000  # 10k ticks per second\n",
    "print(\"avg freq: {} hz\".format(freq_hz))\n",
    "print(\"{} samples ({})\".format(len(xdata), t_res.time()))"
   ]
  },
  {
   "cell_type": "markdown",
   "id": "8080190c",
   "metadata": {},
   "source": [
    "Define other functions for charting and signal processing"
   ]
  },
  {
   "cell_type": "code",
   "execution_count": 4,
   "id": "1c09e1e5",
   "metadata": {},
   "outputs": [
    {
     "ename": "NameError",
     "evalue": "name 'freq_hz' is not defined",
     "output_type": "error",
     "traceback": [
      "\u001b[0;31m---------------------------------------------------------------------------\u001b[0m",
      "\u001b[0;31mNameError\u001b[0m                                 Traceback (most recent call last)",
      "Cell \u001b[0;32mIn[4], line 1\u001b[0m\n\u001b[0;32m----> 1\u001b[0m \u001b[38;5;28;01mdef\u001b[39;00m \u001b[38;5;21mspectrogram\u001b[39m(data, title, Fs\u001b[38;5;241m=\u001b[39mfreq_hz):\n\u001b[1;32m      2\u001b[0m     fig, (ax1,ax2,ax3) \u001b[38;5;241m=\u001b[39m plt\u001b[38;5;241m.\u001b[39msubplots(\u001b[38;5;241m3\u001b[39m)\n\u001b[1;32m      3\u001b[0m     fig\u001b[38;5;241m.\u001b[39mset_figheight(\u001b[38;5;241m15\u001b[39m)\n",
      "\u001b[0;31mNameError\u001b[0m: name 'freq_hz' is not defined"
     ]
    }
   ],
   "source": [
    "def spectrogram(data, title, Fs=freq_hz):\n",
    "    fig, (ax1,ax2,ax3) = plt.subplots(3)\n",
    "    fig.set_figheight(15)\n",
    "    fig.suptitle(title)\n",
    "    [spectrum, freqs, t, im] = ax1.specgram(\n",
    "        data, Fs=Fs, cmap=plt.cm.jet, mode='magnitude', xextent=[0, 50])\n",
    "    #ax1.set_xlabel('Frequency [Hz]')\n",
    "    ax2.plot(spectrum)\n",
    "    ax2.set_title('Spectrum')\n",
    "    ax3.set_title('PSD')\n",
    "    ax3.psd(data, Fs=freq_hz, NFFT=pow(2, 8))\n",
    "    ax3.plot()\n",
    "\n",
    "\n",
    "def band_pass_filter(signal, lowcut, highcut, fs, order=5):\n",
    "    nyq = 0.5 * fs\n",
    "    low = lowcut / nyq\n",
    "    high = highcut / nyq\n",
    "    b, a = spsignal.butter(order, [low, high], btype='band')\n",
    "    y = spsignal.filtfilt(b, a, signal)\n",
    "    return y"
   ]
  },
  {
   "cell_type": "markdown",
   "id": "4c1c80c9",
   "metadata": {},
   "source": [
    "Load sleep data"
   ]
  },
  {
   "cell_type": "code",
   "execution_count": 5,
   "id": "b43cc75a",
   "metadata": {},
   "outputs": [],
   "source": [
    "# start_time = pd.to_datetime('today').replace(\n",
    "#     hour=8, minute=0, second=0, microsecond=0)\n",
    "# end_time = pd.to_datetime('today').replace(\n",
    "#     hour=10, minute=0, second=0, microsecond=0)\n",
    "\n",
    "# target_data = get_data_between_times(\n",
    "#     sleep_data_filename, start_time, end_time)"
   ]
  },
  {
   "cell_type": "markdown",
   "id": "9c1145d2",
   "metadata": {},
   "source": [
    "Chart sleep data while targeting specific bands"
   ]
  },
  {
   "cell_type": "code",
   "execution_count": 6,
   "id": "08f47610",
   "metadata": {},
   "outputs": [
    {
     "ename": "NameError",
     "evalue": "name 'data' is not defined",
     "output_type": "error",
     "traceback": [
      "\u001b[0;31m---------------------------------------------------------------------------\u001b[0m",
      "\u001b[0;31mNameError\u001b[0m                                 Traceback (most recent call last)",
      "Cell \u001b[0;32mIn[6], line 36\u001b[0m\n\u001b[1;32m     33\u001b[0m     fig\u001b[38;5;241m.\u001b[39mtight_layout(rect\u001b[38;5;241m=\u001b[39m[\u001b[38;5;241m0\u001b[39m, \u001b[38;5;241m0\u001b[39m, \u001b[38;5;241m1\u001b[39m, \u001b[38;5;241m0.95\u001b[39m])  \u001b[38;5;66;03m# Adjust layout to fit the title\u001b[39;00m\n\u001b[1;32m     34\u001b[0m     plt\u001b[38;5;241m.\u001b[39mshow()\n\u001b[0;32m---> 36\u001b[0m ch_analysis(\u001b[38;5;241m0\u001b[39m)\n\u001b[1;32m     37\u001b[0m ch_analysis(\u001b[38;5;241m1\u001b[39m)\n",
      "Cell \u001b[0;32mIn[6], line 15\u001b[0m, in \u001b[0;36mch_analysis\u001b[0;34m(channel, fft_res)\u001b[0m\n\u001b[1;32m     13\u001b[0m \u001b[38;5;28;01mdef\u001b[39;00m \u001b[38;5;21mch_analysis\u001b[39m(channel, fft_res\u001b[38;5;241m=\u001b[39m\u001b[38;5;241m256\u001b[39m):\n\u001b[1;32m     14\u001b[0m     \u001b[38;5;28;01mglobal\u001b[39;00m data, freq_hz  \u001b[38;5;66;03m# Assuming these are defined elsewhere\u001b[39;00m\n\u001b[0;32m---> 15\u001b[0m     ch_data \u001b[38;5;241m=\u001b[39m data[:,channel\u001b[38;5;241m+\u001b[39m\u001b[38;5;241m1\u001b[39m]  \u001b[38;5;66;03m# data[:, channel+1]\u001b[39;00m\n\u001b[1;32m     16\u001b[0m     \u001b[38;5;66;03m# low_pass_filter(ch_data, cutoff_freq, freq_hz)\u001b[39;00m\n\u001b[1;32m     17\u001b[0m     ch_data_filtered \u001b[38;5;241m=\u001b[39m ch_data\n",
      "\u001b[0;31mNameError\u001b[0m: name 'data' is not defined"
     ]
    }
   ],
   "source": [
    "eeg_bands = {\n",
    "    'δ': (1, 4),\n",
    "    'θ': (4, 8),\n",
    "    'α': (8, 12),\n",
    "    'low-β': (12, 15),\n",
    "    'β': (15, 22),\n",
    "    'high-β': (22, 38),\n",
    "    'γ': (30, 80)\n",
    "    }\n",
    "\n",
    "cutoff_freq = 80\n",
    "\n",
    "def ch_analysis(channel, fft_res=256):\n",
    "    global data, freq_hz  # Assuming these are defined elsewhere\n",
    "    ch_data = data[:,channel+1]  # data[:, channel+1]\n",
    "    # low_pass_filter(ch_data, cutoff_freq, freq_hz)\n",
    "    ch_data_filtered = ch_data\n",
    "\n",
    "    num_bands = len(eeg_bands)\n",
    "    fig, axs = plt.subplots(num_bands, 1, figsize=(16, 2 * num_bands))\n",
    "\n",
    "    for i, (band, (low, high)) in enumerate(eeg_bands.items()):\n",
    "        ax = axs[i]\n",
    "        band_data = band_pass_filter(ch_data_filtered, low, high, freq_hz)\n",
    "        ax.set_title('{} band ({}-{} Hz) spectrogram'.format(band, low, high))\n",
    "        ax.set_xlabel('Time [s]')\n",
    "        ax.set_ylabel('Frequency [Hz]')\n",
    "        spectrum, freqs, t, im = ax.specgram(\n",
    "            band_data, Fs=freq_hz, cmap=plt.cm.jet, mode='psd', scale=\"dB\", NFFT=fft_res, noverlap=int(fft_res/2))\n",
    "        ax.set_ylim(low, high)\n",
    "\n",
    "    fig.suptitle(\"Channel {} EEG bands\".format(channel))\n",
    "    fig.tight_layout(rect=[0, 0, 1, 0.95])  # Adjust layout to fit the title\n",
    "    plt.show()\n",
    "\n",
    "ch_analysis(0)\n",
    "ch_analysis(1)"
   ]
  },
  {
   "cell_type": "code",
   "execution_count": 7,
   "id": "a7c7e6dd",
   "metadata": {},
   "outputs": [
    {
     "ename": "NameError",
     "evalue": "name 'spectrogram' is not defined",
     "output_type": "error",
     "traceback": [
      "\u001b[0;31m---------------------------------------------------------------------------\u001b[0m",
      "\u001b[0;31mNameError\u001b[0m                                 Traceback (most recent call last)",
      "Cell \u001b[0;32mIn[7], line 1\u001b[0m\n\u001b[0;32m----> 1\u001b[0m spectrogram(data[:,\u001b[38;5;241m1\u001b[39m]\u001b[38;5;241m-\u001b[39mdata[:,\u001b[38;5;241m2\u001b[39m], \u001b[38;5;124m\"\u001b[39m\u001b[38;5;124mch1-2\u001b[39m\u001b[38;5;124m\"\u001b[39m)\n\u001b[1;32m      2\u001b[0m spectrogram(data[:,\u001b[38;5;241m1\u001b[39m], \u001b[38;5;124m\"\u001b[39m\u001b[38;5;124mch1\u001b[39m\u001b[38;5;124m\"\u001b[39m)\n\u001b[1;32m      3\u001b[0m spectrogram(data[:,\u001b[38;5;241m2\u001b[39m], \u001b[38;5;124m\"\u001b[39m\u001b[38;5;124mch2\u001b[39m\u001b[38;5;124m\"\u001b[39m)\n",
      "\u001b[0;31mNameError\u001b[0m: name 'spectrogram' is not defined"
     ]
    }
   ],
   "source": [
    "spectrogram(data[:,1]-data[:,2], \"ch1-2\")\n",
    "spectrogram(data[:,1], \"ch1\")\n",
    "spectrogram(data[:,2], \"ch2\")"
   ]
  },
  {
   "cell_type": "code",
   "execution_count": null,
   "id": "1a29d1bb",
   "metadata": {},
   "outputs": [],
   "source": []
  },
  {
   "cell_type": "code",
   "execution_count": null,
   "id": "c4f7da7a",
   "metadata": {},
   "outputs": [],
   "source": []
  },
  {
   "cell_type": "code",
   "execution_count": null,
   "id": "1361a2da",
   "metadata": {},
   "outputs": [],
   "source": []
  },
  {
   "cell_type": "code",
   "execution_count": null,
   "id": "49362dd0",
   "metadata": {},
   "outputs": [],
   "source": []
  },
  {
   "cell_type": "code",
   "execution_count": null,
   "id": "19b6b1a5",
   "metadata": {},
   "outputs": [],
   "source": []
  },
  {
   "cell_type": "code",
   "execution_count": null,
   "id": "3487eb51",
   "metadata": {},
   "outputs": [],
   "source": []
  },
  {
   "cell_type": "code",
   "execution_count": null,
   "id": "e770073a",
   "metadata": {},
   "outputs": [],
   "source": []
  },
  {
   "cell_type": "code",
   "execution_count": null,
   "id": "a93cc9cb",
   "metadata": {},
   "outputs": [],
   "source": []
  }
 ],
 "metadata": {
  "kernelspec": {
   "display_name": "Python 3 (ipykernel)",
   "language": "python",
   "name": "python3"
  },
  "language_info": {
   "codemirror_mode": {
    "name": "ipython",
    "version": 3
   },
   "file_extension": ".py",
   "mimetype": "text/x-python",
   "name": "python",
   "nbconvert_exporter": "python",
   "pygments_lexer": "ipython3",
   "version": "3.11.5"
  }
 },
 "nbformat": 4,
 "nbformat_minor": 5
}
